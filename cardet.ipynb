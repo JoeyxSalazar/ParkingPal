{
 "cells": [
  {
   "cell_type": "code",
   "execution_count": null,
   "metadata": {},
   "outputs": [],
   "source": [
    "import cv2\n",
    "from PIL import Image\n",
    "import numpy as np"
   ]
  },
  {
   "cell_type": "code",
   "execution_count": null,
   "metadata": {},
   "outputs": [],
   "source": [
    "image = Image.open('imgs/lot2.jpg')\n",
    "car_cascade = cv2.CascadeClassifier('cars.xml')"
   ]
  },
  {
   "cell_type": "code",
   "execution_count": null,
   "metadata": {},
   "outputs": [],
   "source": [
    "image = image.resize((450,250))\n",
    "image_arr = np.array(image)"
   ]
  },
  {
   "cell_type": "code",
   "execution_count": null,
   "metadata": {},
   "outputs": [],
   "source": [
    "grey = cv2.cvtColor(image_arr,cv2.COLOR_BGR2GRAY)\n",
    "Image.fromarray(grey)"
   ]
  },
  {
   "cell_type": "code",
   "execution_count": null,
   "metadata": {},
   "outputs": [],
   "source": [
    "blur = cv2.GaussianBlur(grey,(5,5),0)\n",
    "Image.fromarray(blur)"
   ]
  },
  {
   "cell_type": "code",
   "execution_count": null,
   "metadata": {},
   "outputs": [],
   "source": [
    "dilated = cv2.dilate(blur,np.ones((3,3)))\n",
    "Image.fromarray(dilated)"
   ]
  },
  {
   "cell_type": "code",
   "execution_count": null,
   "metadata": {},
   "outputs": [],
   "source": [
    "kernel = cv2.getStructuringElement(cv2.MORPH_ELLIPSE, (2, 2))\n",
    "closing = cv2.morphologyEx(dilated, cv2.MORPH_CLOSE, kernel) \n",
    "Image.fromarray(closing)"
   ]
  },
  {
   "cell_type": "code",
   "execution_count": null,
   "metadata": {},
   "outputs": [],
   "source": [
    "cars = car_cascade.detectMultiScale(closing, 1.1, 1)"
   ]
  },
  {
   "cell_type": "code",
   "execution_count": null,
   "metadata": {},
   "outputs": [],
   "source": [
    "cnt = 0\n",
    "for (x,y,w,h) in cars:\n",
    "  cv2.rectangle(image_arr,(x,y),(x+w,y+h),(255,0,0),2)\n",
    "  cnt += 1\n",
    "print(cnt, \" cars found\")\n",
    "Image.fromarray(image_arr)"
   ]
  }
 ],
 "metadata": {
  "kernelspec": {
   "display_name": "Python 3",
   "language": "python",
   "name": "python3"
  },
  "language_info": {
   "name": "python",
   "version": "3.11.2"
  },
  "orig_nbformat": 4,
  "vscode": {
   "interpreter": {
    "hash": "370fb4c0d1206347b2309c9514376abc9f068c1f4d33cf86c2d04792dfe5a8d8"
   }
  }
 },
 "nbformat": 4,
 "nbformat_minor": 2
}
